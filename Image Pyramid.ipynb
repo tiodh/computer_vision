{
 "cells": [
  {
   "cell_type": "markdown",
   "metadata": {},
   "source": [
    "# Image Pyramid\n",
    "\n",
    "**Reference:**\n",
    "```\n",
    "Image pyramids and frequency domain\n",
    "16-385 Computer Vision\n",
    "Spring 2021, Lecture 3\n",
    "http://16385.courses.cs.cmu.edu/\n",
    "```\n",
    "\n",
    "**Created by:**\n",
    "```\n",
    "Tio Dharmawan\n",
    "tio.pssi@unej.ac.id\n",
    "Department of Information Technology\n",
    "School of Computer Science\n",
    "University of Jember\n",
    "```"
   ]
  },
  {
   "cell_type": "markdown",
   "metadata": {},
   "source": [
    "## Import Necessary Libraries"
   ]
  },
  {
   "cell_type": "code",
   "execution_count": null,
   "metadata": {},
   "outputs": [],
   "source": [
    "import cv2 as cv\n",
    "import matplotlib.pyplot as plt"
   ]
  },
  {
   "cell_type": "markdown",
   "metadata": {},
   "source": [
    "## Load Data Sample"
   ]
  },
  {
   "cell_type": "code",
   "execution_count": null,
   "metadata": {},
   "outputs": [],
   "source": [
    "img = cv.imread('sample.jpeg')\n",
    "img = cv.cvtColor(img, cv.COLOR_BGR2RGB)\n",
    "plt.figure(figsize=(3,3))\n",
    "plt.imshow(img)\n",
    "print(img.shape)"
   ]
  },
  {
   "cell_type": "markdown",
   "metadata": {},
   "source": [
    "## Example of Slicing data on a List"
   ]
  },
  {
   "cell_type": "code",
   "execution_count": null,
   "metadata": {},
   "outputs": [],
   "source": [
    "data = [0, 1, 2, 3, 4, 5, 6, 7, 8, 9, 10]\n",
    "data[::2]"
   ]
  },
  {
   "cell_type": "markdown",
   "metadata": {},
   "source": [
    "## Image Down Sampling"
   ]
  },
  {
   "cell_type": "markdown",
   "metadata": {},
   "source": [
    "### 1/2 Sub Sampling"
   ]
  },
  {
   "cell_type": "code",
   "execution_count": null,
   "metadata": {},
   "outputs": [],
   "source": [
    "subsamp2 = img[::2,::2]\n",
    "plt.figure(figsize=(3,3))\n",
    "plt.imshow(subsamp2)"
   ]
  },
  {
   "cell_type": "markdown",
   "metadata": {},
   "source": [
    "### 1/4 Sub Sampling"
   ]
  },
  {
   "cell_type": "code",
   "execution_count": null,
   "metadata": {},
   "outputs": [],
   "source": [
    "subsamp4 = subsamp2[::2,::2]\n",
    "plt.figure(figsize=(3,3))\n",
    "plt.imshow(subsamp4)"
   ]
  },
  {
   "cell_type": "markdown",
   "metadata": {},
   "source": [
    "### 1/8 Sub Sampling"
   ]
  },
  {
   "cell_type": "code",
   "execution_count": null,
   "metadata": {},
   "outputs": [],
   "source": [
    "subsamp8 = subsamp4[::2,::2]\n",
    "plt.figure(figsize=(3,3))\n",
    "plt.imshow(subsamp8)"
   ]
  },
  {
   "cell_type": "markdown",
   "metadata": {},
   "source": [
    "### 1/16 Sub Sampling"
   ]
  },
  {
   "cell_type": "code",
   "execution_count": null,
   "metadata": {},
   "outputs": [],
   "source": [
    "subsamp16 = subsamp8[::2,::2]\n",
    "plt.figure(figsize=(3,3))\n",
    "plt.imshow(subsamp16)"
   ]
  },
  {
   "cell_type": "markdown",
   "metadata": {},
   "source": [
    "### 1/32 Sub Sampling"
   ]
  },
  {
   "cell_type": "code",
   "execution_count": null,
   "metadata": {},
   "outputs": [],
   "source": [
    "subsamp32 = subsamp16[::2,::2]\n",
    "plt.figure(figsize=(3,3))\n",
    "plt.imshow(subsamp32)"
   ]
  },
  {
   "cell_type": "markdown",
   "metadata": {},
   "source": [
    "### Comparing The Subsamples"
   ]
  },
  {
   "cell_type": "code",
   "execution_count": null,
   "metadata": {},
   "outputs": [],
   "source": [
    "row = 3\n",
    "col = 3\n",
    "fig = plt.figure(figsize=(8,8))\n",
    "\n",
    "fig.add_subplot(row, col, 1).set_title('Original '+str(img.shape))\n",
    "plt.imshow(img)\n",
    "\n",
    "fig.add_subplot(row, col, 2).set_title('Subsample 1/2 '+str(subsamp2.shape))\n",
    "plt.imshow(subsamp2)\n",
    "\n",
    "fig.add_subplot(row, col, 3).set_title('Subsample 1/4 '+str(subsamp4.shape))\n",
    "plt.imshow(subsamp4)\n",
    "\n",
    "fig.add_subplot(row, col, 4).set_title('Subsample 1/8 '+str(subsamp8.shape))\n",
    "plt.imshow(subsamp8)\n",
    "\n",
    "fig.add_subplot(row, col, 5).set_title('Subsample 1/16 '+str(subsamp16.shape))\n",
    "plt.imshow(subsamp16)\n",
    "\n",
    "fig.add_subplot(row, col, 6).set_title('Subsample 1/32 '+str(subsamp32.shape))\n",
    "plt.imshow(subsamp32)"
   ]
  },
  {
   "cell_type": "markdown",
   "metadata": {},
   "source": [
    "## Downsampling using Gaussian Filter"
   ]
  },
  {
   "cell_type": "markdown",
   "metadata": {},
   "source": [
    "### Load Necessary Libraries"
   ]
  },
  {
   "cell_type": "code",
   "execution_count": null,
   "metadata": {},
   "outputs": [],
   "source": [
    "import numpy as np\n",
    "import cv2 as cv\n",
    "import matplotlib.pyplot as plt"
   ]
  },
  {
   "cell_type": "markdown",
   "metadata": {},
   "source": [
    "### Load Sample Image"
   ]
  },
  {
   "cell_type": "code",
   "execution_count": null,
   "metadata": {},
   "outputs": [],
   "source": [
    "img = cv.imread('sample.jpeg')\n",
    "img = cv.cvtColor(img, cv.COLOR_BGR2RGB)\n",
    "plt.imshow(img)\n",
    "img.shape"
   ]
  },
  {
   "cell_type": "markdown",
   "metadata": {},
   "source": [
    "### Example of Using Padding on an Image"
   ]
  },
  {
   "cell_type": "code",
   "execution_count": null,
   "metadata": {},
   "outputs": [],
   "source": [
    "sm = np.array([\n",
    "    [[1,2,3], [2, 3, 4], [3, 4, 5]],\n",
    "    [[4, 5, 6], [5, 6, 7], [6, 7, 8]],\n",
    "    [[7, 8, 9], [8, 9, 10], [9, 10, 11]]\n",
    "])\n",
    "cv.copyMakeBorder(sm, top=1, bottom=1, left=1, right=1, borderType=cv.BORDER_CONSTANT, value=(0,0,0))"
   ]
  },
  {
   "cell_type": "markdown",
   "metadata": {},
   "source": [
    "### Applying Padding on an Image Sample"
   ]
  },
  {
   "cell_type": "code",
   "execution_count": null,
   "metadata": {},
   "outputs": [],
   "source": [
    "bordered = cv.copyMakeBorder(img, top=1, bottom=1, left=1, right=1, borderType=cv.BORDER_CONSTANT, value=(0,0,0))\n",
    "plt.imshow(bordered)\n",
    "bordered.shape"
   ]
  },
  {
   "cell_type": "markdown",
   "metadata": {},
   "source": [
    "### Convoluting Gaussian Kernel to Image Sample"
   ]
  },
  {
   "cell_type": "code",
   "execution_count": null,
   "metadata": {},
   "outputs": [],
   "source": [
    "import math\n",
    "gaus_kernel = np.array([\n",
    "        [1, 2, 1], \n",
    "        [2, 4, 2], \n",
    "        [1, 2, 1]\n",
    "    ])\n",
    "result = np.copy(bordered)\n",
    "for y in range(1, bordered.shape[0]-1):\n",
    "    for x in range(1, bordered.shape[1]-1):\n",
    "        frame = bordered[y-1:y+2,x-1:x+2]\n",
    "        result[y,x,0] = (gaus_kernel*frame[:,:,0]).sum()//16\n",
    "        result[y,x,1] = (gaus_kernel*frame[:,:,1]).sum()//16\n",
    "        result[y,x,2] = (gaus_kernel*frame[:,:,2]).sum()//16\n",
    "\n",
    "fig = plt.figure(figsize=(10,10))\n",
    "fig.add_subplot(1, 2, 1).set_title('Original')\n",
    "plt.imshow(img)\n",
    "\n",
    "fig.add_subplot(1, 2, 2).set_title('Blurred')\n",
    "plt.imshow(result)"
   ]
  },
  {
   "cell_type": "markdown",
   "metadata": {},
   "source": [
    "## Image Pyramid without Kernel"
   ]
  },
  {
   "cell_type": "code",
   "execution_count": null,
   "metadata": {},
   "outputs": [],
   "source": [
    "row = 3\n",
    "col = 3\n",
    "fig = plt.figure(figsize=(10,10))\n",
    "img = cv.imread('sample.jpeg')\n",
    "img = cv.cvtColor(img, cv.COLOR_BGR2RGB)\n",
    "\n",
    "fig.add_subplot(row, col, 1).set_title('Original'+str(img.shape))\n",
    "plt.imshow(img)\n",
    "\n",
    "subsamp2 = img[::2,::2]\n",
    "fig.add_subplot(row, col, 2).set_title('Subsample 1/2 '+str(subsamp2.shape))\n",
    "plt.imshow(subsamp2)\n",
    "\n",
    "subsamp4 = subsamp2[::2,::2]\n",
    "fig.add_subplot(row, col, 3).set_title('Subsample 1/4'+str(subsamp4.shape))\n",
    "plt.imshow(subsamp4)\n",
    "\n",
    "subsamp8 = subsamp4[::2,::2]\n",
    "fig.add_subplot(row, col, 4).set_title('Subsample 1/8'+str(subsamp8.shape))\n",
    "plt.imshow(subsamp8)\n",
    "\n",
    "subsamp16 = subsamp8[::2,::2]\n",
    "fig.add_subplot(row, col, 5).set_title('Subsample 1/16'+str(subsamp16.shape))\n",
    "plt.imshow(subsamp16)\n",
    "\n",
    "subsamp32 = subsamp16[::2,::2]\n",
    "fig.add_subplot(row, col, 6).set_title('Subsample 1/32'+str(subsamp32.shape))\n",
    "plt.imshow(subsamp32)"
   ]
  },
  {
   "cell_type": "markdown",
   "metadata": {},
   "source": [
    "## Gaussian Pyramid"
   ]
  },
  {
   "cell_type": "code",
   "execution_count": null,
   "metadata": {},
   "outputs": [],
   "source": [
    "row = 3\n",
    "col = 3\n",
    "fig = plt.figure(figsize=(10,10))\n",
    "img = cv.imread('sample.jpeg')\n",
    "img = cv.cvtColor(img, cv.COLOR_BGR2RGB)\n",
    "\n",
    "fig.add_subplot(row, col, 1).set_title('Original'+str(img.shape))\n",
    "plt.imshow(img)\n",
    "\n",
    "img = cv.blur(img, ksize=(3,3))\n",
    "subsamp2 = img[::2,::2]\n",
    "fig.add_subplot(row, col, 2).set_title('Subsample 1/2 '+str(subsamp2.shape))\n",
    "plt.imshow(subsamp2)\n",
    "\n",
    "subsamp2 = cv.blur(subsamp2, ksize=(3,3))\n",
    "subsamp4 = subsamp2[::2,::2]\n",
    "fig.add_subplot(row, col, 3).set_title('Subsample 1/4'+str(subsamp4.shape))\n",
    "plt.imshow(subsamp4)\n",
    "\n",
    "subsamp4 = cv.blur(subsamp4, ksize=(3,3))\n",
    "subsamp8 = subsamp4[::2,::2]\n",
    "fig.add_subplot(row, col, 4).set_title('Subsample 1/8'+str(subsamp8.shape))\n",
    "plt.imshow(subsamp8)\n",
    "\n",
    "subsamp8 = cv.blur(subsamp8, ksize=(3,3))\n",
    "subsamp16 = subsamp8[::2,::2]\n",
    "fig.add_subplot(row, col, 5).set_title('Subsample 1/16'+str(subsamp16.shape))\n",
    "plt.imshow(subsamp16)\n",
    "\n",
    "subsamp16 = cv.blur(subsamp16, ksize=(3,3))\n",
    "subsamp32 = subsamp16[::2,::2]\n",
    "fig.add_subplot(row, col, 6).set_title('Subsample 1/32'+str(subsamp32.shape))\n",
    "plt.imshow(subsamp32)"
   ]
  },
  {
   "cell_type": "markdown",
   "metadata": {},
   "source": [
    "## Laplacian Pyramid"
   ]
  },
  {
   "cell_type": "markdown",
   "metadata": {},
   "source": [
    "#### How to Get Residual Image\n",
    "\n",
    "Residual image can be own by subtracting the original image with blurred image"
   ]
  },
  {
   "cell_type": "code",
   "execution_count": null,
   "metadata": {},
   "outputs": [],
   "source": [
    "row = 1\n",
    "col = 3\n",
    "fig = plt.figure(figsize=(10,10))\n",
    "img = cv.imread('sample.jpeg')\n",
    "img = cv.cvtColor(img, cv.COLOR_BGR2RGB)\n",
    "\n",
    "fig.add_subplot(row, col, 1).set_title('Original '+str(img.shape))\n",
    "plt.imshow(img)\n",
    "\n",
    "blur = cv.blur(img, ksize=(3,3))\n",
    "fig.add_subplot(row, col, 2).set_title('Blurred '+str(blur.shape))\n",
    "plt.imshow(blur)\n",
    "\n",
    "residual = img-blur\n",
    "fig.add_subplot(row, col, 3).set_title('Residual '+str(residual.shape))\n",
    "plt.imshow(residual)"
   ]
  },
  {
   "cell_type": "markdown",
   "metadata": {},
   "source": [
    "### How to Reconstruct the blurred image to the original image?\n",
    "\n",
    "To reconstruct the blurred image to be original image we can addition the blurred image with the residual image"
   ]
  },
  {
   "cell_type": "code",
   "execution_count": null,
   "metadata": {},
   "outputs": [],
   "source": [
    "row = 1\n",
    "col = 3\n",
    "fig = plt.figure(figsize=(10,10))\n",
    "\n",
    "fig.add_subplot(row, col, 1).set_title('Blurred '+str(blur.shape))\n",
    "plt.imshow(blur)\n",
    "\n",
    "blur = cv.blur(img, ksize=(3,3))\n",
    "fig.add_subplot(row, col, 2).set_title('Residual '+str(residual.shape))\n",
    "plt.imshow(residual)\n",
    "\n",
    "original = blur+residual\n",
    "fig.add_subplot(row, col, 3).set_title('Original '+str(original.shape))\n",
    "plt.imshow(original)"
   ]
  },
  {
   "cell_type": "code",
   "execution_count": null,
   "metadata": {},
   "outputs": [],
   "source": []
  }
 ],
 "metadata": {
  "kernelspec": {
   "display_name": "Python 3.7.9 64-bit",
   "language": "python",
   "name": "python3"
  },
  "language_info": {
   "codemirror_mode": {
    "name": "ipython",
    "version": 3
   },
   "file_extension": ".py",
   "mimetype": "text/x-python",
   "name": "python",
   "nbconvert_exporter": "python",
   "pygments_lexer": "ipython3",
   "version": "3.7.9"
  },
  "orig_nbformat": 4,
  "vscode": {
   "interpreter": {
    "hash": "aee8b7b246df8f9039afb4144a1f6fd8d2ca17a180786b69acc140d282b71a49"
   }
  }
 },
 "nbformat": 4,
 "nbformat_minor": 2
}
